{
 "cells": [
  {
   "cell_type": "code",
   "execution_count": 1,
   "metadata": {},
   "outputs": [],
   "source": [
    "from llama_index.core import SimpleDirectoryReader\n",
    "from llama_index.core.node_parser import SentenceSplitter\n",
    "\n",
    "reader = SimpleDirectoryReader(input_dir=\"./files\")\n",
    "documents = reader.load_data()\n",
    "\n",
    "parser = SentenceSplitter()\n",
    "# nodes = parser.get_nodes_from_documents(documents)\n",
    "# print(vars(nodes[0]))\n"
   ]
  },
  {
   "cell_type": "code",
   "execution_count": 2,
   "metadata": {},
   "outputs": [
    {
     "name": "stderr",
     "output_type": "stream",
     "text": [
      "100%|██████████| 5/5 [00:01<00:00,  2.55it/s]\n",
      "100%|██████████| 4/4 [00:00<00:00,  7.55it/s]\n",
      "100%|██████████| 5/5 [00:00<00:00,  5.91it/s]\n",
      "100%|██████████| 5/5 [00:00<00:00,  5.83it/s]\n",
      "100%|██████████| 4/4 [00:00<00:00,  8.45it/s]\n",
      "100%|██████████| 4/4 [00:01<00:00,  3.20it/s]\n",
      "100%|██████████| 5/5 [00:01<00:00,  4.31it/s]\n",
      "100%|██████████| 5/5 [00:00<00:00,  5.92it/s]\n",
      "100%|██████████| 3/3 [00:00<00:00,  4.44it/s]\n",
      "/Users/parker/code/agents_course-first-agent/unit_2.2_llamaindex/env/lib/python3.13/site-packages/llama_index/vector_stores/qdrant/base.py:703: UserWarning: Payload indexes have no effect in the local Qdrant. Please use server Qdrant if you need payload indexes.\n",
      "  self._client.create_payload_index(\n"
     ]
    }
   ],
   "source": [
    "from llama_index.core import Document\n",
    "from llama_index.embeddings.openai import OpenAIEmbedding\n",
    "from llama_index.core.node_parser import SentenceSplitter\n",
    "from llama_index.core.extractors import TitleExtractor\n",
    "from llama_index.core.ingestion import IngestionPipeline\n",
    "from llama_index.vector_stores.qdrant import QdrantVectorStore\n",
    "from llama_index.core.ingestion import IngestionPipeline, IngestionCache\n",
    "\n",
    "# for jupyter notebooks\n",
    "import nest_asyncio\n",
    "nest_asyncio.apply()\n",
    "\n",
    "# in-mem vector DB\n",
    "import qdrant_client\n",
    "\n",
    "client = qdrant_client.QdrantClient(location=\":memory:\")\n",
    "vector_store = QdrantVectorStore(client=client, collection_name=\"test_store\")\n",
    "\n",
    "pipeline = IngestionPipeline(\n",
    "    transformations=[\n",
    "        SentenceSplitter(chunk_size=200, chunk_overlap=0),\n",
    "        TitleExtractor(),\n",
    "        OpenAIEmbedding(),\n",
    "    ],\n",
    "    vector_store=vector_store,\n",
    ")\n",
    "\n",
    "# Save the cache ( not working for me atm )\n",
    "pipeline.cache.persist(\"./pipeline_cache/llama_cache.json\")\n",
    "pipeline.cache = IngestionCache.from_persist_path(\"./pipeline_cache/llama_cache.json\")\n",
    "\n",
    "nodes = pipeline.run(documents=documents)\n",
    "\n"
   ]
  },
  {
   "cell_type": "code",
   "execution_count": 3,
   "metadata": {},
   "outputs": [],
   "source": [
    "# Create your index\n",
    "from llama_index.core import VectorStoreIndex\n",
    "\n",
    "index = VectorStoreIndex.from_vector_store(vector_store)"
   ]
  },
  {
   "cell_type": "markdown",
   "metadata": {},
   "source": [
    "# querying"
   ]
  },
  {
   "cell_type": "code",
   "execution_count": 5,
   "metadata": {},
   "outputs": [
    {
     "name": "stdout",
     "output_type": "stream",
     "text": [
      "Commerce on the internet relies on trust-based models that involve financial institutions mediating disputes. This system, however, has inherent weaknesses, such as the inability to conduct completely non-reversible transactions and the increased costs associated with mediation. These factors limit the practicality of small transactions and introduce uncertainties in payments. To overcome these challenges, an electronic payment system based on cryptographic proof is proposed, which would allow direct transactions between parties without the need for a trusted third party. This system aims to protect sellers from fraud and buyers through routine escrow mechanisms, all while eliminating the need for a central authority to oversee transactions.\n"
     ]
    }
   ],
   "source": [
    "from llama_index.llms.openrouter import OpenRouter\n",
    "import os\n",
    "\n",
    "llm = OpenRouter(\n",
    "    api_key=os.environ['OPENROUTER_API_KEY'],\n",
    "    max_tokens=8192,\n",
    "    context_window=128000,\n",
    "    model=\"qwen/qwen2.5-vl-72b-instruct:free\",\n",
    ")\n",
    "\n",
    "query_engine = index.as_query_engine(\n",
    "    llm=llm,\n",
    "    response_mode=\"tree_summarize\",\n",
    ")\n",
    "response = query_engine.query(\"what does commerce on the internet rely on\")\n",
    "print(response)"
   ]
  },
  {
   "cell_type": "code",
   "execution_count": 7,
   "metadata": {},
   "outputs": [
    {
     "name": "stdout",
     "output_type": "stream",
     "text": [
      "An electronic coin is defined as a chain of digital signatures. Each owner transfers the coin to the next by digitally signing a hash of the previous transaction and the public key of the next owner, then appending these to the end of the coin. This allows a payee to verify the signatures and confirm the chain of ownership.\n"
     ]
    },
    {
     "data": {
      "text/plain": [
       "True"
      ]
     },
     "execution_count": 7,
     "metadata": {},
     "output_type": "execute_result"
    }
   ],
   "source": [
    "from llama_index.core.evaluation import FaithfulnessEvaluator\n",
    "\n",
    "evaluator = FaithfulnessEvaluator(llm=llm)\n",
    "response = query_engine.query(\"how does the paper define an electronic coin?\")\n",
    "print(response)\n",
    "eval_result = evaluator.evaluate_response(response=response)\n",
    "eval_result.passing"
   ]
  },
  {
   "cell_type": "code",
   "execution_count": null,
   "metadata": {},
   "outputs": [],
   "source": []
  }
 ],
 "metadata": {
  "kernelspec": {
   "display_name": "env",
   "language": "python",
   "name": "python3"
  },
  "language_info": {
   "codemirror_mode": {
    "name": "ipython",
    "version": 3
   },
   "file_extension": ".py",
   "mimetype": "text/x-python",
   "name": "python",
   "nbconvert_exporter": "python",
   "pygments_lexer": "ipython3",
   "version": "3.13.2"
  }
 },
 "nbformat": 4,
 "nbformat_minor": 2
}
